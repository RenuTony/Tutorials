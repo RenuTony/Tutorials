{
 "cells": [
  {
   "cell_type": "markdown",
   "metadata": {},
   "source": [
    "### install necessary packages"
   ]
  },
  {
   "cell_type": "code",
   "execution_count": 1,
   "metadata": {},
   "outputs": [
    {
     "name": "stdout",
     "output_type": "stream",
     "text": [
      "Requirement already satisfied: pyldavis in /home/chris/.pyenv/versions/3.6.5/envs/work/lib/python3.6/site-packages (2.1.2)\n",
      "Requirement already satisfied: joblib>=0.8.4 in /home/chris/.pyenv/versions/3.6.5/envs/work/lib/python3.6/site-packages (from pyldavis) (0.13.1)\n",
      "Requirement already satisfied: jinja2>=2.7.2 in /home/chris/.pyenv/versions/3.6.5/envs/work/lib/python3.6/site-packages (from pyldavis) (2.10)\n",
      "Requirement already satisfied: numpy>=1.9.2 in /home/chris/.pyenv/versions/3.6.5/envs/work/lib/python3.6/site-packages (from pyldavis) (1.16.2)\n",
      "Requirement already satisfied: wheel>=0.23.0 in /home/chris/.pyenv/versions/3.6.5/envs/work/lib/python3.6/site-packages (from pyldavis) (0.32.3)\n",
      "Requirement already satisfied: pandas>=0.17.0 in /home/chris/.pyenv/versions/3.6.5/envs/work/lib/python3.6/site-packages (from pyldavis) (0.23.4)\n",
      "Requirement already satisfied: numexpr in /home/chris/.pyenv/versions/3.6.5/envs/work/lib/python3.6/site-packages (from pyldavis) (2.6.9)\n",
      "Requirement already satisfied: funcy in /home/chris/.pyenv/versions/3.6.5/envs/work/lib/python3.6/site-packages (from pyldavis) (1.11)\n",
      "Requirement already satisfied: pytest in /home/chris/.pyenv/versions/3.6.5/envs/work/lib/python3.6/site-packages (from pyldavis) (4.1.1)\n",
      "Requirement already satisfied: scipy>=0.18.0 in /home/chris/.pyenv/versions/3.6.5/envs/work/lib/python3.6/site-packages (from pyldavis) (1.1.0)\n",
      "Requirement already satisfied: future in /home/chris/.pyenv/versions/3.6.5/envs/work/lib/python3.6/site-packages (from pyldavis) (0.17.1)\n",
      "Requirement already satisfied: MarkupSafe>=0.23 in /home/chris/.pyenv/versions/3.6.5/envs/work/lib/python3.6/site-packages (from jinja2>=2.7.2->pyldavis) (1.0)\n",
      "Requirement already satisfied: pytz>=2011k in /home/chris/.pyenv/versions/3.6.5/envs/work/lib/python3.6/site-packages (from pandas>=0.17.0->pyldavis) (2018.5)\n",
      "Requirement already satisfied: python-dateutil>=2.5.0 in /home/chris/.pyenv/versions/3.6.5/envs/work/lib/python3.6/site-packages (from pandas>=0.17.0->pyldavis) (2.7.3)\n",
      "Requirement already satisfied: attrs>=17.4.0 in /home/chris/.pyenv/versions/3.6.5/envs/work/lib/python3.6/site-packages (from pytest->pyldavis) (18.2.0)\n",
      "Requirement already satisfied: py>=1.5.0 in /home/chris/.pyenv/versions/3.6.5/envs/work/lib/python3.6/site-packages (from pytest->pyldavis) (1.7.0)\n",
      "Requirement already satisfied: pluggy>=0.7 in /home/chris/.pyenv/versions/3.6.5/envs/work/lib/python3.6/site-packages (from pytest->pyldavis) (0.8.1)\n",
      "Requirement already satisfied: six>=1.10.0 in /home/chris/.pyenv/versions/3.6.5/envs/work/lib/python3.6/site-packages (from pytest->pyldavis) (1.11.0)\n",
      "Requirement already satisfied: more-itertools>=4.0.0 in /home/chris/.pyenv/versions/3.6.5/envs/work/lib/python3.6/site-packages (from pytest->pyldavis) (5.0.0)\n",
      "Requirement already satisfied: atomicwrites>=1.0 in /home/chris/.pyenv/versions/3.6.5/envs/work/lib/python3.6/site-packages (from pytest->pyldavis) (1.2.1)\n",
      "Requirement already satisfied: setuptools in /home/chris/.pyenv/versions/3.6.5/envs/work/lib/python3.6/site-packages (from pytest->pyldavis) (39.0.1)\n",
      "Requirement already satisfied: wordcloud in /home/chris/.pyenv/versions/3.6.5/envs/work/lib/python3.6/site-packages (1.5.0)\n",
      "Requirement already satisfied: numpy>=1.6.1 in /home/chris/.pyenv/versions/3.6.5/envs/work/lib/python3.6/site-packages (from wordcloud) (1.16.2)\n",
      "Requirement already satisfied: pillow in /home/chris/.pyenv/versions/3.6.5/envs/work/lib/python3.6/site-packages (from wordcloud) (5.4.0)\n"
     ]
    }
   ],
   "source": [
    "!pip install pyldavis\n",
    "!pip install wordcloud"
   ]
  },
  {
   "cell_type": "code",
   "execution_count": null,
   "metadata": {},
   "outputs": [],
   "source": []
  }
 ],
 "metadata": {
  "kernelspec": {
   "display_name": "Python 3",
   "language": "python",
   "name": "python3"
  },
  "language_info": {
   "codemirror_mode": {
    "name": "ipython",
    "version": 3
   },
   "file_extension": ".py",
   "mimetype": "text/x-python",
   "name": "python",
   "nbconvert_exporter": "python",
   "pygments_lexer": "ipython3",
   "version": "3.7.1"
  }
 },
 "nbformat": 4,
 "nbformat_minor": 2
}
