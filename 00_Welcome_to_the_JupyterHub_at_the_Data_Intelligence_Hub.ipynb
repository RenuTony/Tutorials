{
 "cells": [
  {
   "cell_type": "markdown",
   "metadata": {},
   "source": [
    "# Welcome to the DIH Jupyter Hub"
   ]
  },
  {
   "cell_type": "markdown",
   "metadata": {},
   "source": [
    "Welcome to the  JupyterHub at the Data Intelligence Hub\n",
    "You made it to the Python environment at the Data Intelligence Hub. Here, you can access your own data or data you ordered from the Marketplace. Jupyter and Python are useful for data exploration and wrangling and can give you insights regarding your data and questions.\n",
    "\n",
    "Our tutorials  show you the capabilities and possibilities of Jupyter. Learn which libraries and functions you can use and how to productively integrate your data. Furthermore, we included use cases to give you a feeling of what you might be able to do with your data and your knowledge.\n",
    "\n",
    "If you have any questions regarding the Data Intelligence Hub or JupyterHub, please have a look into the tutorials, explore our [documentation](https://github.com/TSI-DIH) or [contact us](https://portal.dih.telekom.net/contact), we will be glad to help you with any problems. Also, we can help with any questions regarding projects you want to do.\n"
   ]
  },
  {
   "cell_type": "markdown",
   "metadata": {},
   "source": [
    "### Table of Tutorials\n",
    "\n",
    "•\tWelcome to the JupyterHub at the Data Intelligence Hub\n",
    "\n",
    "•\tLoad Data\n",
    "\n",
    "•\tImport Libraries\n",
    "\n",
    "•\tVisualization Introduction\n",
    "\n",
    "•\tETL Introduction\n",
    "\n",
    "•\tMachine Learning Example\n",
    "\n",
    "•\tNeural Network Example\n",
    "\n",
    "•\tUse Case\n"
   ]
  },
  {
   "cell_type": "markdown",
   "metadata": {},
   "source": [
    "Have a good time exploring the Intelligence Hub and with our tutorials!"
   ]
  },
  {
   "cell_type": "code",
   "execution_count": null,
   "metadata": {},
   "outputs": [],
   "source": []
  }
 ],
 "metadata": {
  "kernelspec": {
   "display_name": "Python 3",
   "language": "python",
   "name": "python3"
  },
  "language_info": {
   "codemirror_mode": {
    "name": "ipython",
    "version": 3
   },
   "file_extension": ".py",
   "mimetype": "text/x-python",
   "name": "python",
   "nbconvert_exporter": "python",
   "pygments_lexer": "ipython3",
   "version": "3.7.1"
  }
 },
 "nbformat": 4,
 "nbformat_minor": 2
}
