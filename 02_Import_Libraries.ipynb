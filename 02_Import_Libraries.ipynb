{
 "cells": [
  {
   "cell_type": "markdown",
   "metadata": {},
   "source": [
    "# Importing Python Libraries\n",
    "\n",
    "Different libraries are available for Python in the Data Intelligence Hub. Here is a small overview and importing examples for several categories."
   ]
  },
  {
   "cell_type": "markdown",
   "metadata": {},
   "source": [
    "## Standard libraries"
   ]
  },
  {
   "cell_type": "code",
   "execution_count": 1,
   "metadata": {},
   "outputs": [],
   "source": [
    "import pandas\n",
    "import numpy\n",
    "import time"
   ]
  },
  {
   "cell_type": "markdown",
   "metadata": {},
   "source": [
    "## Machine Learning libraries"
   ]
  },
  {
   "cell_type": "code",
   "execution_count": 2,
   "metadata": {},
   "outputs": [
    {
     "name": "stderr",
     "output_type": "stream",
     "text": [
      "WARNING (theano.configdefaults): install mkl with `conda install mkl-service`: No module named 'mkl'\n",
      "/opt/conda/lib/python3.6/site-packages/h5py/__init__.py:36: FutureWarning: Conversion of the second argument of issubdtype from `float` to `np.floating` is deprecated. In future, it will be treated as `np.float64 == np.dtype(float).type`.\n",
      "  from ._conv import register_converters as _register_converters\n",
      "Using TensorFlow backend.\n"
     ]
    }
   ],
   "source": [
    "import sklearn\n",
    "import tensorflow\n",
    "import keras"
   ]
  },
  {
   "cell_type": "markdown",
   "metadata": {},
   "source": [
    "## Visualization libraries"
   ]
  },
  {
   "cell_type": "code",
   "execution_count": 3,
   "metadata": {},
   "outputs": [],
   "source": [
    "import matplotlib\n",
    "import plotly\n",
    "import seaborn\n",
    "import bokeh"
   ]
  },
  {
   "cell_type": "markdown",
   "metadata": {},
   "source": [
    "# Importing libraries that are not standard on the Data Intelligence Hub\n",
    "\n",
    "Libraries that are not in the standard image of the JupyterHub can still be downloaded by the pip/conda install command (! pip install [library]). They can be also run through the terminal in JupyterHub. For pip in Python following example:"
   ]
  },
  {
   "cell_type": "code",
   "execution_count": null,
   "metadata": {},
   "outputs": [
    {
     "name": "stdout",
     "output_type": "stream",
     "text": [
      "Collecting networkx\n",
      "Requirement already satisfied: decorator>=4.3.0 in /opt/conda/lib/python3.6/site-packages (from networkx) (4.3.0)\n",
      "Installing collected packages: networkx\n",
      "Successfully installed networkx-2.2\n"
     ]
    }
   ],
   "source": [
    "! pip install networkx"
   ]
  },
  {
   "cell_type": "markdown",
   "metadata": {},
   "source": [
    "If the pip crashes, which sometimes happens, the command is still executed. Simply restart the kernel in this case. Another option is to use conda. To install something in the persisted space, use the command \"! conda install -yq [library]\". Example as follows:"
   ]
  },
  {
   "cell_type": "code",
   "execution_count": 1,
   "metadata": {},
   "outputs": [
    {
     "name": "stdout",
     "output_type": "stream",
     "text": [
      "Solving environment: ...working... done\n",
      "\n",
      "## Package Plan ##\n",
      "\n",
      "  environment location: /opt/conda\n",
      "\n",
      "  added / updated specs: \n",
      "    - holoviews\n",
      "\n",
      "\n",
      "The following packages will be downloaded:\n",
      "\n",
      "    package                    |            build\n",
      "    ---------------------------|-----------------\n",
      "    cryptography-2.5           |   py36h1ba5d50_0         643 KB  defaults\n",
      "    grpcio-1.12.1              |   py36hdbcaa40_0         1.7 MB  defaults\n",
      "    libssh2-1.8.0              |    h90d6eec_1004         245 KB  conda-forge\n",
      "    pycurl-7.43.0.2            |   py36h1ba5d50_0         185 KB  defaults\n",
      "    matplotlib-base-3.0.3      |   py36h167e16e_0         6.7 MB  conda-forge\n",
      "    matplotlib-3.0.3           |           py36_0           6 KB  conda-forge\n",
      "    pyviz_comms-0.7.0          |             py_0          12 KB  conda-forge\n",
      "    holoviews-1.10.9           |             py_1         3.1 MB  conda-forge\n",
      "    jupyter_console-6.0.0      |             py_0          19 KB  conda-forge\n",
      "    openssl-1.1.1a             |    h14c3975_1000         4.0 MB  conda-forge\n",
      "    python-3.6.7               |       h0371630_0        34.3 MB  defaults\n",
      "    certifi-2018.11.29         |        py36_1000         145 KB  conda-forge\n",
      "    ca-certificates-2018.11.29 |       ha4d7672_0         143 KB  conda-forge\n",
      "    jupyter-1.0.0              |             py_1           6 KB  conda-forge\n",
      "    libcurl-7.63.0             |    h20c2e04_1000         550 KB  defaults\n",
      "    sip-4.18                   |           py36_1         263 KB  conda-forge\n",
      "    param-1.8.2                |             py_0          56 KB  conda-forge\n",
      "    qtconsole-4.4.3            |             py_0          81 KB  conda-forge\n",
      "    pyqt-4.11.4                |           py36_3         3.5 MB  conda-forge\n",
      "    libgcc-ng-7.3.0            |       hdf63c60_0         6.1 MB  conda-forge\n",
      "    qt-4.8.7                   |                2        34.1 MB  defaults\n",
      "    tk-8.6.9                   |    h84994c4_1000         3.1 MB  conda-forge\n",
      "    krb5-1.16.3                |    h05b26f9_1001         1.4 MB  conda-forge\n",
      "    libstdcxx-ng-7.3.0         |       hdf63c60_0         2.6 MB  conda-forge\n",
      "    ------------------------------------------------------------\n",
      "                                           Total:       102.9 MB\n",
      "\n",
      "The following NEW packages will be INSTALLED:\n",
      "\n",
      "    holoviews:       1.10.9-py_1             conda-forge\n",
      "    jupyter:         1.0.0-py_1              conda-forge\n",
      "    jupyter_console: 6.0.0-py_0              conda-forge\n",
      "    matplotlib-base: 3.0.3-py36h167e16e_0    conda-forge\n",
      "    param:           1.8.2-py_0              conda-forge\n",
      "    pyqt:            4.11.4-py36_3           conda-forge\n",
      "    pyviz_comms:     0.7.0-py_0              conda-forge\n",
      "    qt:              4.8.7-2                 defaults   \n",
      "    qtconsole:       4.4.3-py_0              conda-forge\n",
      "\n",
      "The following packages will be UPDATED:\n",
      "\n",
      "    ca-certificates: 2018.8.24-ha4d7672_0    conda-forge --> 2018.11.29-ha4d7672_0   conda-forge\n",
      "    certifi:         2018.8.24-py36_1001     conda-forge --> 2018.11.29-py36_1000    conda-forge\n",
      "    cryptography:    2.3.1-py36hdffb7b8_0    conda-forge --> 2.5-py36h1ba5d50_0      defaults   \n",
      "    krb5:            1.16.1-hbb41f41_0       conda-forge --> 1.16.3-h05b26f9_1001    conda-forge\n",
      "    libcurl:         7.61.1-hbdb9355_2       conda-forge --> 7.63.0-h20c2e04_1000    defaults   \n",
      "    libgcc-ng:       7.2.0-hdf63c60_3        conda-forge --> 7.3.0-hdf63c60_0        conda-forge\n",
      "    libssh2:         1.8.0-h5b517e9_2        conda-forge --> 1.8.0-h90d6eec_1004     conda-forge\n",
      "    libstdcxx-ng:    7.2.0-hdf63c60_3        conda-forge --> 7.3.0-hdf63c60_0        conda-forge\n",
      "    matplotlib:      2.2.3-py36h8e2386c_0    conda-forge --> 3.0.3-py36_0            conda-forge\n",
      "    openssl:         1.0.2p-h470a237_0       conda-forge --> 1.1.1a-h14c3975_1000    conda-forge\n",
      "    pycurl:          7.43.0.2-py36hb7f436b_0 defaults    --> 7.43.0.2-py36h1ba5d50_0 defaults   \n",
      "    python:          3.6.6-h5001a0f_2        conda-forge --> 3.6.7-h0371630_0        defaults   \n",
      "    tk:              8.6.8-ha92aebf_0        conda-forge --> 8.6.9-h84994c4_1000     conda-forge\n",
      "\n",
      "The following packages will be DOWNGRADED:\n",
      "\n",
      "    grpcio:          1.14.1-py36hd60e7a3_0   conda-forge --> 1.12.1-py36hdbcaa40_0   defaults   \n",
      "    sip:             4.18.1-py36hfc679d8_0   conda-forge --> 4.18-py36_1             conda-forge\n",
      "\n",
      "Preparing transaction: ...working... done\n",
      "Verifying transaction: ...working... done\n",
      "Executing transaction: ...working... done\n"
     ]
    }
   ],
   "source": [
    "! conda install -yq holoviews"
   ]
  },
  {
   "cell_type": "markdown",
   "metadata": {},
   "source": [
    "To have an overview over all installed libraries use the command:"
   ]
  },
  {
   "cell_type": "code",
   "execution_count": 4,
   "metadata": {},
   "outputs": [
    {
     "name": "stdout",
     "output_type": "stream",
     "text": [
      "absl-py==0.5.0\r\n",
      "alembic==0.9.9\r\n",
      "asn1crypto==0.24.0\r\n",
      "astor==0.7.1\r\n",
      "async-generator==1.10\r\n",
      "backcall==0.1.0\r\n",
      "beautifulsoup4==4.6.3\r\n",
      "bleach==1.5.0\r\n",
      "bokeh==0.13.0\r\n",
      "boto==2.49.0\r\n",
      "boto3==1.9.20\r\n",
      "botocore==1.12.21\r\n",
      "bz2file==0.98\r\n",
      "certifi==2018.11.29\r\n",
      "cffi==1.11.5\r\n",
      "chardet==3.0.4\r\n",
      "Click==7.0\r\n",
      "cloudpickle==0.5.6\r\n",
      "conda==4.5.11\r\n",
      "cryptography==2.5\r\n",
      "cryptography-vectors==2.3.1\r\n",
      "cycler==0.10.0\r\n",
      "cymem==1.31.2\r\n",
      "Cython==0.28.5\r\n",
      "cytoolz==0.9.0.1\r\n",
      "dask==0.19.1\r\n",
      "decorator==4.3.0\r\n",
      "dill==0.2.8.2\r\n",
      "distributed==1.23.3\r\n",
      "docutils==0.14\r\n",
      "elasticsearch==6.3.1\r\n",
      "entrypoints==0.2.3\r\n",
      "fastcache==1.0.2\r\n",
      "gast==0.2.0\r\n",
      "gensim==3.4.0\r\n",
      "gmpy2==2.0.8\r\n",
      "grpcio==1.12.1\r\n",
      "h5py==2.7.1\r\n",
      "heapdict==1.0.0\r\n",
      "holoviews==1.10.9\r\n",
      "html5lib==0.9999999\r\n",
      "idna==2.7\r\n",
      "ipykernel==5.1.0\r\n",
      "ipython==7.0.1\r\n",
      "ipython-genutils==0.2.0\r\n",
      "ipywidgets==7.2.1\r\n",
      "jedi==0.13.1\r\n",
      "Jinja2==2.10\r\n",
      "jmespath==0.9.3\r\n",
      "jsonschema==2.6.0\r\n",
      "jupyter==1.0.0\r\n",
      "jupyter-client==5.2.3\r\n",
      "jupyter-console==6.0.0\r\n",
      "jupyter-core==4.4.0\r\n",
      "jupyterhub==0.9.4\r\n",
      "jupyterlab==0.34.12\r\n",
      "jupyterlab-launcher==0.13.1\r\n",
      "Keras==2.2.4\r\n",
      "Keras-Applications==1.0.4\r\n",
      "Keras-Preprocessing==1.0.2\r\n",
      "kiwisolver==1.0.1\r\n",
      "llvmlite==0.23.0\r\n",
      "locket==0.2.0\r\n",
      "Mako==1.0.7\r\n",
      "Markdown==2.6.11\r\n",
      "MarkupSafe==1.0\r\n",
      "matplotlib==3.0.3\r\n",
      "mistune==0.8.3\r\n",
      "mpmath==1.0.0\r\n",
      "msgpack==0.5.6\r\n",
      "msgpack-numpy==0.4.3.2\r\n",
      "murmurhash==0.28.0\r\n",
      "nbconvert==5.3.1\r\n",
      "nbformat==4.4.0\r\n",
      "nltk==3.3\r\n",
      "notebook==5.6.0\r\n",
      "numba==0.38.1\r\n",
      "numexpr==2.6.6\r\n",
      "numpy==1.15.2\r\n",
      "packaging==18.0\r\n",
      "pamela==0.3.0\r\n",
      "pandas==0.23.4\r\n",
      "pandocfilters==1.4.2\r\n",
      "param==1.8.2\r\n",
      "parso==0.3.1\r\n",
      "partd==0.3.8\r\n",
      "patsy==0.5.0\r\n",
      "pexpect==4.6.0\r\n",
      "pickleshare==0.7.5\r\n",
      "plac==0.9.6\r\n",
      "plotly==3.3.0\r\n",
      "preshed==1.0.1\r\n",
      "prometheus-client==0.4.1\r\n",
      "prompt-toolkit==2.0.5\r\n",
      "protobuf==3.6.1\r\n",
      "psutil==5.4.7\r\n",
      "ptyprocess==0.6.0\r\n",
      "py4j==0.10.7\r\n",
      "pycosat==0.6.3\r\n",
      "pycparser==2.19\r\n",
      "pycurl==7.43.0.2\r\n",
      "Pygments==2.2.0\r\n",
      "pygpu==0.7.6\r\n",
      "pyOpenSSL==18.0.0\r\n",
      "pyparsing==2.2.2\r\n",
      "PySocks==1.6.8\r\n",
      "pyspark==2.3.1\r\n",
      "python-dateutil==2.7.3\r\n",
      "python-editor==1.0.3\r\n",
      "python-oauth2==1.0.1\r\n",
      "python-utils==2.2.0\r\n",
      "pytz==2018.5\r\n",
      "pyviz-comms==0.7.0\r\n",
      "PyYAML==3.13\r\n",
      "pyzmq==17.1.2\r\n",
      "qtconsole==4.4.3\r\n",
      "regex==2017.11.9\r\n",
      "requests==2.19.1\r\n",
      "retrying==1.3.3\r\n",
      "ruamel-yaml==0.15.71\r\n",
      "s3transfer==0.1.13\r\n",
      "scikit-learn==0.19.2\r\n",
      "scipy==1.1.0\r\n",
      "seaborn==0.9.0\r\n",
      "Send2Trash==1.5.0\r\n",
      "simplegeneric==0.8.1\r\n",
      "simplejson==3.16.0\r\n",
      "six==1.11.0\r\n",
      "smart-open==1.7.1\r\n",
      "sortedcontainers==2.0.5\r\n",
      "spacy==2.0.12\r\n",
      "SQLAlchemy==1.2.12\r\n",
      "statsmodels==0.9.0\r\n",
      "sympy==1.1.1\r\n",
      "tblib==1.3.2\r\n",
      "tensorboard==1.10.0\r\n",
      "tensorflow==1.10.0\r\n",
      "tensorflow-tensorboard==1.5.1\r\n",
      "termcolor==1.1.0\r\n",
      "terminado==0.8.1\r\n",
      "testpath==0.4.2\r\n",
      "Theano==1.0.3\r\n",
      "thinc==6.10.3\r\n",
      "toolz==0.9.0\r\n",
      "tornado==5.1.1\r\n",
      "tqdm==4.26.0\r\n",
      "traitlets==4.3.2\r\n",
      "ujson==1.35\r\n",
      "urllib3==1.23\r\n",
      "wcwidth==0.1.7\r\n",
      "webencodings==0.5.1\r\n",
      "Werkzeug==0.14.1\r\n",
      "widgetsnbextension==3.2.1\r\n",
      "wrapt==1.10.11\r\n",
      "xlrd==1.1.0\r\n",
      "zict==0.1.3\r\n"
     ]
    }
   ],
   "source": [
    "! pip freeze"
   ]
  },
  {
   "cell_type": "markdown",
   "metadata": {},
   "source": [
    "Another way to install libraries is the terminal of this JupyterHub. There you can simply run the same commands (\"pip install [library]\"/\"conda install -yq [library]\") and get the libraries you need."
   ]
  },
  {
   "cell_type": "code",
   "execution_count": null,
   "metadata": {},
   "outputs": [],
   "source": []
  }
 ],
 "metadata": {
  "kernelspec": {
   "display_name": "Python 3",
   "language": "python",
   "name": "python3"
  },
  "language_info": {
   "codemirror_mode": {
    "name": "ipython",
    "version": 3
   },
   "file_extension": ".py",
   "mimetype": "text/x-python",
   "name": "python",
   "nbconvert_exporter": "python",
   "pygments_lexer": "ipython3",
   "version": "3.7.1"
  }
 },
 "nbformat": 4,
 "nbformat_minor": 2
}
