{
 "cells": [
  {
   "cell_type": "markdown",
   "metadata": {},
   "source": [
    "# Tutorial for importing data into Python\n",
    "\n",
    "To import a data set, it has to be selected and set up in the Data Intelligence Hub environment. You can choose between the upload of a data set from the Data Intelligence Hub or one of your own data sets. One or more data sets can be added to a project and used in Python.\n",
    "\n",
    "For this tutorial data sets from “Luftmesswerte für Stickoxide - Zeitreihen der städtischen Messstellen” were used. They can be found here https://portal.dih.telekom.net/protected/marketplace/offer/21462ed0-5819-482c-bfcf-45f39a4adec6. You can add the data to the Workspace in which you want to use them, directly at the time of your order. To use your own data, you have to upload them first to Control Center/Data or Control Center/Storage (depending on your administrative rights). Next, start a project in your Workspace and allocate the data to this project. Once your data have been allocated to a project, they can be used with the following script.\n"
   ]
  },
  {
   "cell_type": "code",
   "execution_count": 1,
   "metadata": {},
   "outputs": [
    {
     "ename": "ModuleNotFoundError",
     "evalue": "No module named 'dih.storage'",
     "output_type": "error",
     "traceback": [
      "\u001b[0;31m---------------------------------------------------------------------------\u001b[0m",
      "\u001b[0;31mModuleNotFoundError\u001b[0m                       Traceback (most recent call last)",
      "\u001b[0;32m<ipython-input-1-88a0a773724c>\u001b[0m in \u001b[0;36m<module>\u001b[0;34m()\u001b[0m\n\u001b[1;32m      1\u001b[0m \u001b[0;31m#For further details, tutorials and documentations, please consult our Github account:  https://github.com/tsi-dih\u001b[0m\u001b[0;34m\u001b[0m\u001b[0;34m\u001b[0m\u001b[0m\n\u001b[0;32m----> 2\u001b[0;31m \u001b[0;32mfrom\u001b[0m \u001b[0mdih\u001b[0m\u001b[0;34m.\u001b[0m\u001b[0mstorage\u001b[0m \u001b[0;32mimport\u001b[0m \u001b[0mread_storage_account\u001b[0m\u001b[0;34m\u001b[0m\u001b[0m\n\u001b[0m\u001b[1;32m      3\u001b[0m \u001b[0;34m\u001b[0m\u001b[0m\n\u001b[1;32m      4\u001b[0m \u001b[0mpaths\u001b[0m \u001b[0;34m=\u001b[0m \u001b[0;34m[\u001b[0m\u001b[0;34m'NO2_values_duesseldorf_2015.csv'\u001b[0m\u001b[0;34m,\u001b[0m \u001b[0;34m'NO2_values_duesseldorf_2016.csv'\u001b[0m\u001b[0;34m]\u001b[0m\u001b[0;34m\u001b[0m\u001b[0m\n\u001b[1;32m      5\u001b[0m \u001b[0;34m\u001b[0m\u001b[0m\n",
      "\u001b[0;31mModuleNotFoundError\u001b[0m: No module named 'dih.storage'"
     ]
    }
   ],
   "source": [
    "#For further details, tutorials and documentations, please consult our Github account:  https://github.com/tsi-dih \n",
    "from dih.storage import read_storage_account\n",
    "\n",
    "paths = ['NO2_values_duesseldorf_2015.csv', 'NO2_values_duesseldorf_2016.csv']\n",
    "\n",
    "data, data1 = [read_storage_account(\n",
    "    path=path,                             # Name of uploaded file 1 (will be filled in for the first dataset)\n",
    "    project_id='962',                      # Identification for the project (also place where to put the files in the storage)\n",
    "    workspace_id='427',                    # Identification for the workspace\n",
    "    application_key='826a941c-25ac-4390-bb96-c3c172f76f35',  # Generated access key\n",
    "    api_gateway_endpoint='https://api.dih.telekom.net/api/v1/storage/fs/readfile',\n",
    "    account=\"padlsfreemium\",\n",
    "    username=\"example@yourprovider.com\"    # Your Username (E-mail address)\n",
    ") for path in paths]\n",
    "\n",
    "print(data[:1000])\n",
    "print(data1[:1000])"
   ]
  },
  {
   "cell_type": "markdown",
   "metadata": {},
   "source": [
    "### Using the data\n",
    "\n",
    "The outcome of the import function is a simple string, that now can be transformed into a pandas dataframe for example.\n",
    "This is shown in the following lines of code."
   ]
  },
  {
   "cell_type": "code",
   "execution_count": 10,
   "metadata": {},
   "outputs": [
    {
     "data": {
      "text/html": [
       "<div>\n",
       "<style scoped>\n",
       "    .dataframe tbody tr th:only-of-type {\n",
       "        vertical-align: middle;\n",
       "    }\n",
       "\n",
       "    .dataframe tbody tr th {\n",
       "        vertical-align: top;\n",
       "    }\n",
       "\n",
       "    .dataframe thead th {\n",
       "        text-align: right;\n",
       "    }\n",
       "</style>\n",
       "<table border=\"1\" class=\"dataframe\">\n",
       "  <thead>\n",
       "    <tr style=\"text-align: right;\">\n",
       "      <th></th>\n",
       "      <th>DATUM</th>\n",
       "      <th>Uhrzeit</th>\n",
       "      <th>Doro</th>\n",
       "      <th>Brinck</th>\n",
       "    </tr>\n",
       "  </thead>\n",
       "  <tbody>\n",
       "    <tr>\n",
       "      <th>0</th>\n",
       "      <td>01.01.2015</td>\n",
       "      <td>1:00</td>\n",
       "      <td>98,6</td>\n",
       "      <td>36,4</td>\n",
       "    </tr>\n",
       "    <tr>\n",
       "      <th>1</th>\n",
       "      <td>01.01.2015</td>\n",
       "      <td>2:00</td>\n",
       "      <td>52,2</td>\n",
       "      <td>33,5</td>\n",
       "    </tr>\n",
       "    <tr>\n",
       "      <th>2</th>\n",
       "      <td>01.01.2015</td>\n",
       "      <td>3:00</td>\n",
       "      <td>46,6</td>\n",
       "      <td>26,3</td>\n",
       "    </tr>\n",
       "    <tr>\n",
       "      <th>3</th>\n",
       "      <td>01.01.2015</td>\n",
       "      <td>4:00</td>\n",
       "      <td>48,5</td>\n",
       "      <td>27,6</td>\n",
       "    </tr>\n",
       "    <tr>\n",
       "      <th>4</th>\n",
       "      <td>01.01.2015</td>\n",
       "      <td>5:00</td>\n",
       "      <td>48,6</td>\n",
       "      <td>31,6</td>\n",
       "    </tr>\n",
       "  </tbody>\n",
       "</table>\n",
       "</div>"
      ],
      "text/plain": [
       "        DATUM Uhrzeit  Doro Brinck\n",
       "0  01.01.2015    1:00  98,6   36,4\n",
       "1  01.01.2015    2:00  52,2   33,5\n",
       "2  01.01.2015    3:00  46,6   26,3\n",
       "3  01.01.2015    4:00  48,5   27,6\n",
       "4  01.01.2015    5:00  48,6   31,6"
      ]
     },
     "execution_count": 10,
     "metadata": {},
     "output_type": "execute_result"
    }
   ],
   "source": [
    "import pandas as pd\n",
    "data_df = pd.read_csv(pd.compat.StringIO(data), sep = ';') # function to read the data into a dataframe, seperator might needs a change depending on the data\n",
    "\n",
    "data_df.head(5)"
   ]
  },
  {
   "cell_type": "code",
   "execution_count": 11,
   "metadata": {},
   "outputs": [
    {
     "data": {
      "text/html": [
       "<div>\n",
       "<style scoped>\n",
       "    .dataframe tbody tr th:only-of-type {\n",
       "        vertical-align: middle;\n",
       "    }\n",
       "\n",
       "    .dataframe tbody tr th {\n",
       "        vertical-align: top;\n",
       "    }\n",
       "\n",
       "    .dataframe thead th {\n",
       "        text-align: right;\n",
       "    }\n",
       "</style>\n",
       "<table border=\"1\" class=\"dataframe\">\n",
       "  <thead>\n",
       "    <tr style=\"text-align: right;\">\n",
       "      <th></th>\n",
       "      <th>DATUM</th>\n",
       "      <th>Uhrzeit</th>\n",
       "      <th>Doro</th>\n",
       "      <th>Brinck</th>\n",
       "    </tr>\n",
       "  </thead>\n",
       "  <tbody>\n",
       "    <tr>\n",
       "      <th>0</th>\n",
       "      <td>01.01.2016</td>\n",
       "      <td>1:00</td>\n",
       "      <td>44,7</td>\n",
       "      <td>45,0</td>\n",
       "    </tr>\n",
       "    <tr>\n",
       "      <th>1</th>\n",
       "      <td>01.01.2016</td>\n",
       "      <td>2:00</td>\n",
       "      <td>59,4</td>\n",
       "      <td>43,0</td>\n",
       "    </tr>\n",
       "    <tr>\n",
       "      <th>2</th>\n",
       "      <td>01.01.2016</td>\n",
       "      <td>3:00</td>\n",
       "      <td>55,6</td>\n",
       "      <td>40,6</td>\n",
       "    </tr>\n",
       "    <tr>\n",
       "      <th>3</th>\n",
       "      <td>01.01.2016</td>\n",
       "      <td>4:00</td>\n",
       "      <td>50,9</td>\n",
       "      <td>37,9</td>\n",
       "    </tr>\n",
       "    <tr>\n",
       "      <th>4</th>\n",
       "      <td>01.01.2016</td>\n",
       "      <td>5:00</td>\n",
       "      <td>49,8</td>\n",
       "      <td>33,0</td>\n",
       "    </tr>\n",
       "  </tbody>\n",
       "</table>\n",
       "</div>"
      ],
      "text/plain": [
       "        DATUM Uhrzeit  Doro Brinck\n",
       "0  01.01.2016    1:00  44,7   45,0\n",
       "1  01.01.2016    2:00  59,4   43,0\n",
       "2  01.01.2016    3:00  55,6   40,6\n",
       "3  01.01.2016    4:00  50,9   37,9\n",
       "4  01.01.2016    5:00  49,8   33,0"
      ]
     },
     "execution_count": 11,
     "metadata": {},
     "output_type": "execute_result"
    }
   ],
   "source": [
    "data_df1 = pd.read_csv(pd.compat.StringIO(data1), sep = ';') # function to read the data into a dataframe, seperator might needs a change depending on the data\n",
    "\n",
    "data_df1.head(5)"
   ]
  },
  {
   "cell_type": "code",
   "execution_count": 12,
   "metadata": {},
   "outputs": [],
   "source": [
    "data_total = pd.concat([data_df, data_df1])"
   ]
  },
  {
   "cell_type": "code",
   "execution_count": 15,
   "metadata": {},
   "outputs": [
    {
     "data": {
      "text/html": [
       "<div>\n",
       "<style scoped>\n",
       "    .dataframe tbody tr th:only-of-type {\n",
       "        vertical-align: middle;\n",
       "    }\n",
       "\n",
       "    .dataframe tbody tr th {\n",
       "        vertical-align: top;\n",
       "    }\n",
       "\n",
       "    .dataframe thead th {\n",
       "        text-align: right;\n",
       "    }\n",
       "</style>\n",
       "<table border=\"1\" class=\"dataframe\">\n",
       "  <thead>\n",
       "    <tr style=\"text-align: right;\">\n",
       "      <th></th>\n",
       "      <th>DATUM</th>\n",
       "      <th>Uhrzeit</th>\n",
       "      <th>Doro</th>\n",
       "      <th>Brinck</th>\n",
       "    </tr>\n",
       "  </thead>\n",
       "  <tbody>\n",
       "    <tr>\n",
       "      <th>0</th>\n",
       "      <td>01.01.2015</td>\n",
       "      <td>1:00</td>\n",
       "      <td>98,6</td>\n",
       "      <td>36,4</td>\n",
       "    </tr>\n",
       "    <tr>\n",
       "      <th>1</th>\n",
       "      <td>01.01.2015</td>\n",
       "      <td>2:00</td>\n",
       "      <td>52,2</td>\n",
       "      <td>33,5</td>\n",
       "    </tr>\n",
       "    <tr>\n",
       "      <th>2</th>\n",
       "      <td>01.01.2015</td>\n",
       "      <td>3:00</td>\n",
       "      <td>46,6</td>\n",
       "      <td>26,3</td>\n",
       "    </tr>\n",
       "    <tr>\n",
       "      <th>3</th>\n",
       "      <td>01.01.2015</td>\n",
       "      <td>4:00</td>\n",
       "      <td>48,5</td>\n",
       "      <td>27,6</td>\n",
       "    </tr>\n",
       "    <tr>\n",
       "      <th>4</th>\n",
       "      <td>01.01.2015</td>\n",
       "      <td>5:00</td>\n",
       "      <td>48,6</td>\n",
       "      <td>31,6</td>\n",
       "    </tr>\n",
       "  </tbody>\n",
       "</table>\n",
       "</div>"
      ],
      "text/plain": [
       "        DATUM Uhrzeit  Doro Brinck\n",
       "0  01.01.2015    1:00  98,6   36,4\n",
       "1  01.01.2015    2:00  52,2   33,5\n",
       "2  01.01.2015    3:00  46,6   26,3\n",
       "3  01.01.2015    4:00  48,5   27,6\n",
       "4  01.01.2015    5:00  48,6   31,6"
      ]
     },
     "execution_count": 15,
     "metadata": {},
     "output_type": "execute_result"
    }
   ],
   "source": [
    "data_total.head(5)"
   ]
  },
  {
   "cell_type": "code",
   "execution_count": 16,
   "metadata": {},
   "outputs": [
    {
     "data": {
      "text/html": [
       "<div>\n",
       "<style scoped>\n",
       "    .dataframe tbody tr th:only-of-type {\n",
       "        vertical-align: middle;\n",
       "    }\n",
       "\n",
       "    .dataframe tbody tr th {\n",
       "        vertical-align: top;\n",
       "    }\n",
       "\n",
       "    .dataframe thead th {\n",
       "        text-align: right;\n",
       "    }\n",
       "</style>\n",
       "<table border=\"1\" class=\"dataframe\">\n",
       "  <thead>\n",
       "    <tr style=\"text-align: right;\">\n",
       "      <th></th>\n",
       "      <th>DATUM</th>\n",
       "      <th>Uhrzeit</th>\n",
       "      <th>Doro</th>\n",
       "      <th>Brinck</th>\n",
       "    </tr>\n",
       "  </thead>\n",
       "  <tbody>\n",
       "    <tr>\n",
       "      <th>8779</th>\n",
       "      <td>31.12.2016</td>\n",
       "      <td>20:00</td>\n",
       "      <td>50,8</td>\n",
       "      <td>46,8</td>\n",
       "    </tr>\n",
       "    <tr>\n",
       "      <th>8780</th>\n",
       "      <td>31.12.2016</td>\n",
       "      <td>21:00</td>\n",
       "      <td>51,8</td>\n",
       "      <td>42,6</td>\n",
       "    </tr>\n",
       "    <tr>\n",
       "      <th>8781</th>\n",
       "      <td>31.12.2016</td>\n",
       "      <td>22:00</td>\n",
       "      <td>46,8</td>\n",
       "      <td>41,8</td>\n",
       "    </tr>\n",
       "    <tr>\n",
       "      <th>8782</th>\n",
       "      <td>31.12.2016</td>\n",
       "      <td>23:00</td>\n",
       "      <td>46,0</td>\n",
       "      <td>43,9</td>\n",
       "    </tr>\n",
       "    <tr>\n",
       "      <th>8783</th>\n",
       "      <td>31.12.2016</td>\n",
       "      <td>0:00</td>\n",
       "      <td>41,7</td>\n",
       "      <td>41,6</td>\n",
       "    </tr>\n",
       "  </tbody>\n",
       "</table>\n",
       "</div>"
      ],
      "text/plain": [
       "           DATUM Uhrzeit  Doro Brinck\n",
       "8779  31.12.2016   20:00  50,8   46,8\n",
       "8780  31.12.2016   21:00  51,8   42,6\n",
       "8781  31.12.2016   22:00  46,8   41,8\n",
       "8782  31.12.2016   23:00  46,0   43,9\n",
       "8783  31.12.2016    0:00  41,7   41,6"
      ]
     },
     "execution_count": 16,
     "metadata": {},
     "output_type": "execute_result"
    }
   ],
   "source": [
    "data_total.tail(5)"
   ]
  }
 ],
 "metadata": {
  "kernelspec": {
   "display_name": "Python 3",
   "language": "python",
   "name": "python3"
  },
  "language_info": {
   "codemirror_mode": {
    "name": "ipython",
    "version": 3
   },
   "file_extension": ".py",
   "mimetype": "text/x-python",
   "name": "python",
   "nbconvert_exporter": "python",
   "pygments_lexer": "ipython3",
   "version": "3.7.1"
  }
 },
 "nbformat": 4,
 "nbformat_minor": 2
}
